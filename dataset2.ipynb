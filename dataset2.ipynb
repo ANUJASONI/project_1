{
  "nbformat": 4,
  "nbformat_minor": 0,
  "metadata": {
    "colab": {
      "provenance": []
    },
    "kernelspec": {
      "name": "python3",
      "display_name": "Python 3"
    },
    "language_info": {
      "name": "python"
    }
  },
  "cells": [
    {
      "cell_type": "code",
      "execution_count": null,
      "metadata": {
        "id": "xOihSnQM0-yx"
      },
      "outputs": [],
      "source": [
        "from google.colab import drive"
      ]
    },
    {
      "cell_type": "code",
      "source": [
        "drive.mount('\\content\\drive')"
      ],
      "metadata": {
        "id": "4Jh3lUfb1GsE"
      },
      "execution_count": null,
      "outputs": []
    },
    {
      "cell_type": "code",
      "source": [
        "import numpy as np # linear algebra\n",
        "import pandas as pd # data processing, CSV file I/O (e.g. pd.read_csv)\n",
        "import matplotlib.pyplot as plt"
      ],
      "metadata": {
        "id": "fFlKrdfQ1NQS"
      },
      "execution_count": null,
      "outputs": []
    },
    {
      "cell_type": "code",
      "source": [
        "img = plt.imread('/content/contentdrive/MyDrive/handwritten_signature/dataset2/forg_sig/ak01.jpg')\n",
        "plt.imshow(img)"
      ],
      "metadata": {
        "id": "qU2TuCc71P9L"
      },
      "execution_count": null,
      "outputs": []
    },
    {
      "cell_type": "code",
      "source": [
        "img1 = plt.imread('/content/contentdrive/MyDrive/handwritten_signature/dataset2/orginal_sig/ak01.jpg')\n",
        "plt.imshow(img1)"
      ],
      "metadata": {
        "id": "OFhMkyaW1S7V"
      },
      "execution_count": null,
      "outputs": []
    },
    {
      "cell_type": "code",
      "source": [
        "import glob\n",
        "gen = [glob.glob('/content/contentdrive/MyDrive/handwritten_signature/dataset2/orginal_sig/*.*')]\n",
        "\n",
        "forg = [glob.glob('/content/contentdrive/MyDrive/handwritten_signature/dataset2/forg_sig/*.*')]"
      ],
      "metadata": {
        "id": "qZCEDOxp1lPd"
      },
      "execution_count": null,
      "outputs": []
    },
    {
      "cell_type": "code",
      "source": [
        "\n",
        "# Print loaded image file paths\n",
        "for data_idx, data_paths in enumerate(gen):\n",
        "    for path in data_paths:\n",
        "        print(f\"Gen-{data_idx + 1} image path: {path}\")\n",
        "\n",
        "for data_idx, data_paths in enumerate(forg):\n",
        "    for path in data_paths:\n",
        "        print(f\"Forg-{data_idx + 1} image path: {path}\")"
      ],
      "metadata": {
        "colab": {
          "base_uri": "https://localhost:8080/"
        },
        "id": "9kmGPH_G2Gu9",
        "outputId": "486cc6cd-3053-4cdd-e873-5172910d0adb"
      },
      "execution_count": null,
      "outputs": [
        {
          "output_type": "stream",
          "name": "stdout",
          "text": [
            "Gen-1 image path: /content/contentdrive/MyDrive/handwritten_signature/dataset2/orginal_sig/ak01.jpg\n",
            "Gen-1 image path: /content/contentdrive/MyDrive/handwritten_signature/dataset2/orginal_sig/ml02.jpg\n",
            "Gen-1 image path: /content/contentdrive/MyDrive/handwritten_signature/dataset2/orginal_sig/lk03.jpg\n",
            "Gen-1 image path: /content/contentdrive/MyDrive/handwritten_signature/dataset2/orginal_sig/ch04.jpg\n",
            "Gen-1 image path: /content/contentdrive/MyDrive/handwritten_signature/dataset2/orginal_sig/nn05.jpg\n",
            "Gen-1 image path: /content/contentdrive/MyDrive/handwritten_signature/dataset2/orginal_sig/an06.jpg\n",
            "Forg-1 image path: /content/contentdrive/MyDrive/handwritten_signature/dataset2/forg_sig/ak01.jpg\n",
            "Forg-1 image path: /content/contentdrive/MyDrive/handwritten_signature/dataset2/forg_sig/an06.jpg\n",
            "Forg-1 image path: /content/contentdrive/MyDrive/handwritten_signature/dataset2/forg_sig/ch04.jpg\n",
            "Forg-1 image path: /content/contentdrive/MyDrive/handwritten_signature/dataset2/forg_sig/lk03.jpg\n",
            "Forg-1 image path: /content/contentdrive/MyDrive/handwritten_signature/dataset2/forg_sig/ml02.jpg\n",
            "Forg-1 image path: /content/contentdrive/MyDrive/handwritten_signature/dataset2/forg_sig/nn05.jpg\n"
          ]
        }
      ]
    },
    {
      "cell_type": "code",
      "source": [
        "import cv2\n",
        "import numpy as np\n",
        "from skimage.feature import hog\n",
        "\n",
        "train_data = []\n",
        "train_labels = []\n",
        "\n",
        "test_data = []\n",
        "test_labels = []\n",
        "\n",
        "orientations = 9\n",
        "pixels_per_cell = (8, 8)\n",
        "cells_per_block = (2, 2)\n",
        "\n",
        "for data in range(len(gen)):\n",
        "    for i in gen[data]:\n",
        "        image = cv2.imread(i)\n",
        "        if image is None:\n",
        "            print(f\"Error loading image: {i}\")\n",
        "            continue\n",
        "\n",
        "        image = cv2.cvtColor(image, cv2.COLOR_BGR2RGB)\n",
        "        image = cv2.resize(image, (224, 224))\n",
        "\n",
        "        # Convert the image to grayscale\n",
        "        gray_image = cv2.cvtColor(image, cv2.COLOR_RGB2GRAY)\n",
        "\n",
        "        hog_features = hog(\n",
        "            gray_image,\n",
        "            orientations=orientations,\n",
        "            pixels_per_cell=pixels_per_cell,\n",
        "            cells_per_block=cells_per_block\n",
        "        )\n",
        "\n",
        "        if data == 3:\n",
        "            test_data.append(image)\n",
        "            test_labels.append(0)\n",
        "        else:\n",
        "            train_data.append(hog_features)\n",
        "            train_labels.append(0)\n",
        "\n",
        "for data in range(len(forg)):\n",
        "    for j in forg[data]:\n",
        "        image = cv2.imread(j)\n",
        "        if image is None:\n",
        "            print(f\"Error loading image: {j}\")\n",
        "            continue\n",
        "\n",
        "        image = cv2.cvtColor(image, cv2.COLOR_BGR2RGB)\n",
        "        image = cv2.resize(image, (224, 224))\n",
        "\n",
        "        # Convert the image to grayscale\n",
        "        gray_image = cv2.cvtColor(image, cv2.COLOR_RGB2GRAY)\n",
        "\n",
        "        hog_features = hog(\n",
        "            gray_image,\n",
        "            orientations=orientations,\n",
        "            pixels_per_cell=pixels_per_cell,\n",
        "            cells_per_block=cells_per_block\n",
        "        )\n",
        "\n",
        "        if data == 3:\n",
        "            test_data.append(image)\n",
        "            test_labels.append(1)\n",
        "        else:\n",
        "            train_data.append(hog_features)\n",
        "            train_labels.append(1)\n",
        "\n",
        "train_data = np.array(train_data)\n",
        "train_labels = np.array(train_labels)\n",
        "\n",
        "test_data = np.array(test_data)\n",
        "test_labels = np.array(test_labels)"
      ],
      "metadata": {
        "id": "4w1BIYMD2PT7"
      },
      "execution_count": null,
      "outputs": []
    },
    {
      "cell_type": "code",
      "source": [
        "train_data.shape"
      ],
      "metadata": {
        "id": "zhttUpRs2SAA"
      },
      "execution_count": null,
      "outputs": []
    },
    {
      "cell_type": "code",
      "source": [
        "from sklearn.utils import shuffle\n",
        "train_data,train_labels = shuffle(train_data,train_labels)\n",
        "\n",
        "test_data,test_labels = shuffle(test_data,test_labels)"
      ],
      "metadata": {
        "id": "MUx1kmYL2dS6"
      },
      "execution_count": null,
      "outputs": []
    },
    {
      "cell_type": "code",
      "source": [
        "pip install keras_preprocessing"
      ],
      "metadata": {
        "id": "Mn1rqu-V2hyH"
      },
      "execution_count": null,
      "outputs": []
    },
    {
      "cell_type": "code",
      "source": [
        "from keras.models import Sequential\n",
        "from keras.layers import Conv2D,MaxPooling2D,Flatten,Dense,Dropout\n",
        "from keras_preprocessing.image import ImageDataGenerator\n",
        "from sklearn.metrics import confusion_matrix as CM\n",
        "from keras.optimizers import Adam\n",
        "from keras.optimizers import RMSprop\n",
        "\n",
        "def relu(x):\n",
        "    return np.maximum(0, x)\n",
        "\n",
        "def softmax(x):\n",
        "    return np.exp(x) / np.sum(np.exp(x), axis=1, keepdims=True)\n",
        "\n",
        "def objective(x, y):\n",
        " return x**2.0 + y**2.0\n",
        "\n",
        "\n",
        "network = Sequential()\n",
        "\n",
        "network.add(Conv2D(64,(3,3),input_shape=(224,224,3),activation='relu'))\n",
        "network.add(MaxPooling2D(3,3))\n",
        "\n",
        "network.add(Conv2D(32,(3,3),activation='relu'))\n",
        "network.add(MaxPooling2D(2,2))\n",
        "\n",
        "network.add(Flatten()) #NX1\n",
        "network.add(Dense(128,activation = 'relu'))\n",
        "network.add(Dropout(rate=0.3)) #143\n",
        "network.add(Flatten()) #NX1\n",
        "network.add(Dense(2,activation = 'softmax'))\n",
        "network.add(Flatten()) #NX1\n",
        "\n",
        "network.compile(optimizer=Adam(learning_rate=0.001),loss=\"binary_crossentropy\",metrics=[\"accuracy\"])\n",
        "network.summary()"
      ],
      "metadata": {
        "id": "U68uiQUr2pjT"
      },
      "execution_count": null,
      "outputs": []
    },
    {
      "cell_type": "code",
      "source": [
        "from keras.models import Sequential\n",
        "from keras.layers import Dense, Flatten\n",
        "from keras.callbacks import EarlyStopping, ReduceLROnPlateau\n",
        "\n",
        "# Define callbacks\n",
        "earlyStopping = EarlyStopping(monitor='val_loss', min_delta=0, patience=3, verbose=1)\n",
        "reduceLROnPlateau = ReduceLROnPlateau(monitor='val_loss', factor=0.2, patience=2, verbose=1)\n",
        "\n",
        "callbacks = [earlyStopping, reduceLROnPlateau]\n",
        "\n",
        "# Create a simple Dense model\n",
        "model = Sequential()\n",
        "model.add(Dense(256, activation='relu', input_shape=(26244,)))\n",
        "model.add(Dense(128, activation='relu'))\n",
        "model.add(Dense(2, activation='softmax'))\n",
        "\n",
        "# Compile the model\n",
        "model.compile(optimizer='adam', loss='sparse_categorical_crossentropy', metrics=['accuracy'])\n",
        "\n",
        "# Fit the model\n",
        "EPOCHS = 3\n",
        "BS = 1\n",
        "progress = model.fit(train_data, train_labels, batch_size=BS, epochs=EPOCHS, callbacks=callbacks, validation_split=0.05)"
      ],
      "metadata": {
        "id": "44fN591m20fs"
      },
      "execution_count": null,
      "outputs": []
    },
    {
      "cell_type": "code",
      "source": [
        "acc = progress.history['accuracy']\n",
        "val_acc = progress.history['val_accuracy']\n",
        "loss = progress.history['loss']\n",
        "val_loss = progress.history['val_loss']\n",
        "\n",
        "\n",
        "epochs = range(len(acc))\n",
        "\n",
        "plt.plot(epochs, acc, 'b', label='Training acc')\n",
        "plt.plot(epochs, val_acc, 'r', label='Validation acc')\n",
        "plt.title('Training and validation accuracy')\n",
        "plt.legend()\n",
        "\n",
        "plt.figure()\n",
        "\n",
        "plt.plot(epochs, loss, 'b', label='Training loss')\n",
        "plt.plot(epochs, val_loss, 'r', label='Validation loss')\n",
        "plt.title('Training and validation loss')\n",
        "plt.legend()\n",
        "\n",
        "plt.show()\n",
        "\n",
        "\n",
        "import matplotlib.pyplot as plt\n",
        "\n",
        "# Assuming 'progress' is your model training history dictionary\n",
        "acc = progress.history['accuracy']\n",
        "loss = progress.history['loss']\n",
        "\n",
        "epochs = range(len(acc))\n",
        "\n",
        "plt.figure(figsize=(8, 4))\n",
        "plt.grid(True)\n",
        "plt.plot(epochs, acc, 'g-', linewidth=2, label='Accuracy')\n",
        "plt.plot(epochs, loss, 'r-', linewidth=2, label='Loss')\n",
        "plt.title('Model Training History')\n",
        "plt.xlabel('Epoch')\n",
        "plt.xticks(epochs)\n",
        "plt.legend(loc='upper left')\n",
        "plt.show()"
      ],
      "metadata": {
        "colab": {
          "base_uri": "https://localhost:8080/",
          "height": 1000
        },
        "id": "f5vCwMb42_E4",
        "outputId": "d94d200d-15f9-4322-8f00-d1ff5af05d24"
      },
      "execution_count": null,
      "outputs": [
        {
          "output_type": "display_data",
          "data": {
            "text/plain": [
              "<Figure size 640x480 with 1 Axes>"
            ],
            "image/png": "[encoded data removed]"
          },
          "metadata": {}
        },
        {
          "output_type": "display_data",
          "data": {
            "text/plain": [
              "<Figure size 640x480 with 1 Axes>"
            ],
            "image/png": "[encoded data removed]"
          },
          "metadata": {}
        },
        {
          "output_type": "display_data",
          "data": {
            "text/plain": [
              "<Figure size 800x400 with 1 Axes>"
            ],
            "image/png": "[encoded data removed]"
          },
          "metadata": {}
        }
      ]
    },
    {
      "cell_type": "code",
      "source": [
        "pred = network.predict(test_data)\n",
        "pred\n",
        "\n"
      ],
      "metadata": {
        "id": "5Ev2a4oW3Uz7"
      },
      "execution_count": null,
      "outputs": []
    },
    {
      "cell_type": "code",
      "source": [
        "from sklearn.metrics import accuracy_score, precision_score, recall_score, f1_score, confusion_matrix\n",
        "from keras.models import Sequential\n",
        "from keras.layers import Dense, Flatten, Conv2D, MaxPooling2D, Dropout\n",
        "import numpy as np\n",
        "\n",
        "# ... Load and preprocess data ...\n",
        "\n",
        "# Train and evaluate the CNN-only model\n",
        "cnn_model = Sequential()\n",
        "# ... Define CNN layers ...\n",
        "cnn_model.compile(optimizer='adam', loss='sparse_categorical_crossentropy', metrics=['accuracy'])\n",
        "cnn_model.fit(train_data, train_labels, batch_size=BS, epochs=EPOCHS, validation_split=0.05)\n",
        "cnn_pred_probs = cnn_model.predict(test_data)\n",
        "cnn_pred_labels = np.argmax(cnn_pred_probs, axis=1)\n",
        "# Calculate evaluation metrics for CNN-only model\n",
        "cnn_accuracy = accuracy_score(test_labels, cnn_pred_labels)\n",
        "# ... Calculate other metrics ...\n",
        "\n",
        "# Train and evaluate the HOG-only model\n",
        "hog_model = Sequential()\n",
        "# ... Define HOG-only model layers ...\n",
        "hog_model.compile(optimizer='adam', loss='sparse_categorical_crossentropy', metrics=['accuracy'])\n",
        "hog_model.fit(train_data, train_labels, batch_size=BS, epochs=EPOCHS, validation_split=0.05)\n",
        "hog_pred_labels = hog_model.predict_classes(test_data)\n",
        "# Calculate evaluation metrics for HOG-only model\n",
        "hog_accuracy = accuracy_score(test_labels, hog_pred_labels)\n",
        "# ... Calculate other metrics ...\n",
        "\n",
        "# Train and evaluate the CNN+HOG model\n",
        "combined_model = Sequential()\n",
        "# ... Define CNN and HOG combined model layers ...\n",
        "combined_model.compile(optimizer='adam', loss='sparse_categorical_crossentropy', metrics=['accuracy'])\n",
        "combined_model.fit(train_data_combined, train_labels, batch_size=BS, epochs=EPOCHS, validation_split=0.05)\n",
        "combined_pred_labels = combined_model.predict_classes(test_data_combined)\n",
        "# Calculate evaluation metrics for CNN+HOG model\n",
        "combined_accuracy = accuracy_score(test_labels, combined_pred_labels)\n",
        "# ... Calculate other metrics ...\n",
        "\n",
        "# Print evaluation results\n",
        "print(\"CNN-only Accuracy:\", cnn_accuracy)\n",
        "# ... Print other metrics for CNN-only model ...\n",
        "print(\"HOG-only Accuracy:\", hog_accuracy)\n",
        "# ... Print other metrics for HOG-only model ...\n",
        "print(\"CNN+HOG Accuracy:\", combined_accuracy)\n",
        "# ... Print other metrics for CNN+HOG model ..."
      ],
      "metadata": {
        "id": "MI3GdV7M4tlW"
      },
      "execution_count": null,
      "outputs": []
    },
    {
      "cell_type": "code",
      "source": [
        "from sklearn.metrics import accuracy_score\n",
        "accuracy_score(pred.argmax(axis=1), test_labels)"
      ],
      "metadata": {
        "id": "lr04Hc5Gkj4S"
      },
      "execution_count": null,
      "outputs": []
    },
    {
      "cell_type": "code",
      "source": [
        "from sklearn.metrics import accuracy_score, precision_score, recall_score, f1_score, confusion_matrix\n",
        "# Get predicted probabilities for each class from the network model\n",
        "pred_probs = network.predict(test_data)\n",
        "\n",
        "# Convert probabilities to predicted labels (0 or 1)\n",
        "pred_labels = np.argmax(pred_probs, axis=1)\n",
        "\n",
        "# Calculate evaluation metrics\n",
        "accuracy = accuracy_score(test_labels, pred_labels)\n",
        "precision = precision_score(test_labels, pred_labels)\n",
        "recall = recall_score(test_labels, pred_labels)\n",
        "f1 = f1_score(test_labels, pred_labels)\n",
        "\n",
        "# Calculate confusion matrix\n",
        "conf_matrix = confusion_matrix(test_labels, pred_labels)\n",
        "print(\"Evaluation Metrics:\")\n",
        "print(\"Accuracy:\", accuracy)\n",
        "print(\"Precision:\", precision)\n",
        "print(\"Recall:\", recall)\n",
        "print(\"F1 Score:\", f1)\n",
        "print(\"Confusion Matrix:\")\n",
        "print(conf_matrix)\n"
      ],
      "metadata": {
        "id": "odgyvBIYkoDX"
      },
      "execution_count": null,
      "outputs": []
    },
    {
      "cell_type": "code",
      "source": [],
      "metadata": {
        "id": "QG9yyPjS3s5n"
      },
      "execution_count": null,
      "outputs": []
    },
    {
      "cell_type": "code",
      "source": [],
      "metadata": {
        "id": "V1Mow5L83WYs"
      },
      "execution_count": null,
      "outputs": []
    }
  ]
}